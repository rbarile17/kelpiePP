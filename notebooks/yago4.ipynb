{
 "cells": [
  {
   "cell_type": "code",
   "execution_count": null,
   "metadata": {},
   "outputs": [],
   "source": [
    "import pandas as pd\n",
    "\n",
    "from collections import defaultdict\n",
    "from tqdm import tqdm\n",
    "\n",
    "from pykeen.triples import TriplesFactory\n",
    "\n",
    "from SPARQLWrapper import SPARQLWrapper\n",
    "from SPARQLWrapper import JSON "
   ]
  },
  {
   "cell_type": "code",
   "execution_count": null,
   "metadata": {},
   "outputs": [],
   "source": [
    "sparql = SPARQLWrapper(endpoint=\"http://pop-os:7200/repositories/YAGO4\")\n",
    "sparql.setReturnFormat(JSON)"
   ]
  },
  {
   "cell_type": "code",
   "execution_count": null,
   "metadata": {},
   "outputs": [],
   "source": [
    "yago_prefix = \"http://yago-knowledge.org/resource/\"\n",
    "yago_schema_prefix = \"http://yago-knowledge.org/schema#\""
   ]
  },
  {
   "cell_type": "code",
   "execution_count": null,
   "metadata": {},
   "outputs": [],
   "source": [
    "query = \"\"\"\n",
    "    PREFIX owl: <http://www.w3.org/2002/07/owl#>\n",
    "    select ?p\n",
    "    WHERE { \n",
    "        ?p a owl:ObjectProperty .\n",
    "    }\n",
    "    ORDER BY RAND()\n",
    "\"\"\"\n",
    "\n",
    "sparql.setQuery(query)\n",
    "rows = sparql.queryAndConvert()[\"results\"][\"bindings\"]\n",
    "\n",
    "predicates = set([r[\"p\"][\"value\"] for r in rows])\n",
    "\n",
    "predicates.add(\"http://schema.org/albumRelease\")\n",
    "predicates.add(\"http://schema.org/alumni\")\n",
    "predicates.add(\"http://schema.org/member\")\n",
    "predicates.add(\"http://schema.org/subjectOf\")\n",
    "\n",
    "predicates_string = [f\"<{p}>\" for p in predicates]\n",
    "predicates_string = f\"{{{' '.join(predicates_string)}}}\""
   ]
  },
  {
   "cell_type": "code",
   "execution_count": null,
   "metadata": {},
   "outputs": [],
   "source": [
    "query = f\"\"\"\n",
    "    SELECT ?s ?p ?o\n",
    "    WHERE {{\n",
    "        VALUES ?p {predicates_string}\n",
    "        ?s ?p ?o\n",
    "    }}\n",
    "\"\"\"\n",
    "\n",
    "sparql.setQuery(query)\n",
    "rows = sparql.queryAndConvert()[\"results\"][\"bindings\"]"
   ]
  },
  {
   "cell_type": "code",
   "execution_count": null,
   "metadata": {},
   "outputs": [],
   "source": [
    "get_s = lambda row: row[\"s\"][\"value\"]\n",
    "get_o = lambda row: row[\"o\"][\"value\"]\n",
    "get_p = lambda row: row[\"p\"][\"value\"]\n",
    "\n",
    "triples = [(get_s(t), get_p(t), get_o(t)) for t in tqdm(rows)]"
   ]
  },
  {
   "cell_type": "code",
   "execution_count": null,
   "metadata": {},
   "outputs": [],
   "source": [
    "entity_to_triples = defaultdict(list)\n",
    "\n",
    "for s, p, o in tqdm(triples):\n",
    "    entity_to_triples[s].append((s, p, o))\n",
    "    entity_to_triples[o].append((s, p, o))\n",
    "\n",
    "entities_to_discard = []\n",
    "for entity, cur_triples in tqdm(entity_to_triples.items()):\n",
    "    if \"http://yago-knowledge.org/resource/\" not in entity or len(cur_triples) < 20:\n",
    "        entities_to_discard.append(entity)\n",
    "\n",
    "entities_to_discard = set(entities_to_discard)\n",
    "\n",
    "filtered_triples = []\n",
    "for s, p, o in tqdm(triples):\n",
    "    if s not in entities_to_discard and o not in entities_to_discard:\n",
    "        filtered_triples.append((s, p, o))\n",
    "\n",
    "s = [s for s, _, _ in filtered_triples]\n",
    "o = [o for _, _, o in filtered_triples]\n",
    "\n",
    "sample_entities = set(s).union(set(o))"
   ]
  },
  {
   "cell_type": "code",
   "execution_count": null,
   "metadata": {},
   "outputs": [],
   "source": [
    "triples_df = pd.DataFrame(filtered_triples, columns=[\"s\", \"p\", \"o\"])\n",
    "triples_df[\"s\"] = triples_df[\"s\"].map(lambda x: x.split(\"http://yago-knowledge.org/resource/\")[-1])\n",
    "triples_df[\"o\"] = triples_df[\"o\"].map(lambda x: x.split(\"http://yago-knowledge.org/resource/\")[-1])\n",
    "triples_df[\"p\"] = triples_df[\"p\"].map(lambda x: x.split(\"/\")[-1])\n",
    "triples_df.to_csv(\"../data/YAGO4-20/data.txt\", sep=\"\\t\", index=False, header=False)"
   ]
  },
  {
   "cell_type": "code",
   "execution_count": null,
   "metadata": {},
   "outputs": [],
   "source": [
    "tf = TriplesFactory.from_path(\"../data/YAGO4-20/data.txt\")\n",
    "\n",
    "training, testing, validation = tf.split([.8, .1, .1])\n",
    "\n",
    "train_df = training.tensor_to_df(training.mapped_triples)\n",
    "train_df.drop(columns=[\"head_id\", \"relation_id\", \"tail_id\"], inplace=True)\n",
    "train_df.to_csv(\"../data/YAGO4-20/train.txt\", sep=\"\\t\", index=False, header=False)\n",
    "\n",
    "test_df = testing.tensor_to_df(testing.mapped_triples)\n",
    "test_df.drop(columns=[\"head_id\", \"relation_id\", \"tail_id\"], inplace=True)\n",
    "test_df.to_csv(\"../data/YAGO4-20/test.txt\", sep=\"\\t\", index=False, header=False)\n",
    "\n",
    "valid_df = validation.tensor_to_df(validation.mapped_triples)\n",
    "valid_df.drop(columns=[\"head_id\", \"relation_id\", \"tail_id\"], inplace=True)\n",
    "valid_df.to_csv(\"../data/YAGO4-20/valid.txt\", sep=\"\\t\", index=False, header=False)"
   ]
  }
 ],
 "metadata": {
  "kernelspec": {
   "display_name": "kelpie",
   "language": "python",
   "name": "python3"
  },
  "language_info": {
   "codemirror_mode": {
    "name": "ipython",
    "version": 3
   },
   "file_extension": ".py",
   "mimetype": "text/x-python",
   "name": "python",
   "nbconvert_exporter": "python",
   "pygments_lexer": "ipython3",
   "version": "3.11.3"
  }
 },
 "nbformat": 4,
 "nbformat_minor": 2
}
