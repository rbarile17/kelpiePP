{
 "cells": [
  {
   "cell_type": "code",
   "execution_count": null,
   "metadata": {},
   "outputs": [],
   "source": [
    "import pandas as pd\n",
    "\n",
    "from rdflib import Graph\n",
    "from rdflib import URIRef\n",
    "from rdflib import RDF\n",
    "\n",
    "from tqdm import tqdm\n",
    "\n",
    "from SPARQLWrapper import SPARQLWrapper\n",
    "from SPARQLWrapper import JSON "
   ]
  },
  {
   "cell_type": "code",
   "execution_count": null,
   "metadata": {},
   "outputs": [],
   "source": [
    "sparql = SPARQLWrapper(endpoint=\"http://pop-os:7200/repositories/YAGO4\")\n",
    "sparql.setReturnFormat(JSON)\n",
    "query = \"\"\"\n",
    "    PREFIX owl: <http://www.w3.org/2002/07/owl#>\n",
    "    select ?p\n",
    "    WHERE { \n",
    "        ?p a owl:ObjectProperty .\n",
    "    }\n",
    "    ORDER BY RAND()\n",
    "\"\"\"\n",
    "\n",
    "sparql.setQuery(query)\n",
    "rows = sparql.queryAndConvert()[\"results\"][\"bindings\"]\n",
    "\n",
    "predicates = set([r[\"p\"][\"value\"] for r in rows])\n",
    "\n",
    "predicates.add(\"http://schema.org/albumRelease\")\n",
    "predicates.add(\"http://schema.org/alumni\")\n",
    "predicates.add(\"http://schema.org/member\")\n",
    "predicates.add(\"http://schema.org/subjectOf\")\n",
    "predicates_map = {predicate.split(\"/\")[-1]: predicate for predicate in predicates}"
   ]
  },
  {
   "cell_type": "code",
   "execution_count": null,
   "metadata": {},
   "outputs": [],
   "source": [
    "triples = pd.read_csv(\"../data/YAGO4-20/data.txt\", sep=\"\\t\", names=[\"s\", \"p\", \"o\"])\n",
    "triples[\"s\"] = triples[\"s\"].map(lambda x: f\"http://yago-knowledge.org/resource/{x}\")\n",
    "triples[\"p\"] = triples[\"p\"].map(predicates_map.get)\n",
    "triples[\"o\"] = triples[\"o\"].map(lambda x: f\"http://yago-knowledge.org/resource/{x}\")"
   ]
  },
  {
   "cell_type": "code",
   "execution_count": null,
   "metadata": {},
   "outputs": [],
   "source": [
    "subjects = set(triples[\"s\"].values.tolist())\n",
    "objects = set(triples[\"o\"].values.tolist())\n",
    "entities = subjects.union(objects)"
   ]
  },
  {
   "cell_type": "code",
   "execution_count": null,
   "metadata": {},
   "outputs": [],
   "source": [
    "types = Graph()\n",
    "\n",
    "types.parse(\"../data/YAGO4-20/yago-wd-full-types.nt\", format=\"nt\")"
   ]
  },
  {
   "cell_type": "code",
   "execution_count": null,
   "metadata": {},
   "outputs": [],
   "source": [
    "sample_graph = Graph()\n",
    "\n",
    "for entity in tqdm(entities):\n",
    "    entity_types = types.triples((URIRef(entity), RDF.type, None))\n",
    "    entity_types = list(entity_types)\n",
    "    for entity_type in entity_types:\n",
    "        sample_graph.add(entity_type)"
   ]
  },
  {
   "cell_type": "code",
   "execution_count": null,
   "metadata": {},
   "outputs": [],
   "source": [
    "triples = [(row['s'], row['p'], row['o']) for _, row in tqdm(triples.iterrows())]"
   ]
  },
  {
   "cell_type": "code",
   "execution_count": null,
   "metadata": {},
   "outputs": [],
   "source": [
    "for s, p, o in tqdm(triples):\n",
    "    sample_graph.add((URIRef(s), URIRef(p), URIRef(o)))"
   ]
  },
  {
   "cell_type": "code",
   "execution_count": null,
   "metadata": {},
   "outputs": [],
   "source": [
    "sample_graph.serialize(\"../data/YAGO4-20/YAGO4-20_no_schema.nt\", format=\"nt\", encoding=\"utf-8\")"
   ]
  },
  {
   "cell_type": "code",
   "execution_count": null,
   "metadata": {},
   "outputs": [],
   "source": [
    "!cat ../data/YAGO4-20/yago-wd-schema.nt ../data/YAGO4-20/yago-wd-class.nt ../data/YAGO4-20/YAGO4-20_no_schema.nt > ../data/YAGO4-20/YAGO4-20.nt"
   ]
  }
 ],
 "metadata": {
  "kernelspec": {
   "display_name": "kelpie",
   "language": "python",
   "name": "python3"
  },
  "language_info": {
   "codemirror_mode": {
    "name": "ipython",
    "version": 3
   },
   "file_extension": ".py",
   "mimetype": "text/x-python",
   "name": "python",
   "nbconvert_exporter": "python",
   "pygments_lexer": "ipython3",
   "version": "3.11.3"
  }
 },
 "nbformat": 4,
 "nbformat_minor": 2
}
